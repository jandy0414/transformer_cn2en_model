{
 "cells": [
  {
   "cell_type": "code",
   "execution_count": 1,
   "metadata": {},
   "outputs": [
    {
     "name": "stdout",
     "output_type": "stream",
     "text": [
      "2.0.0\n",
      "sys.version_info(major=3, minor=6, micro=2, releaselevel='final', serial=0)\n",
      "matplotlib 3.1.2\n",
      "numpy 1.18.0\n",
      "pandas 0.25.3\n",
      "sklearn 0.22\n",
      "tensorflow 2.0.0\n",
      "tensorflow_core.keras 2.2.4-tf\n"
     ]
    }
   ],
   "source": [
    "import matplotlib as mpl\n",
    "import matplotlib.pyplot as plt\n",
    "%matplotlib inline\n",
    "import numpy as np\n",
    "import sklearn\n",
    "import pandas as pd\n",
    "import os\n",
    "import sys\n",
    "import time\n",
    "import tensorflow as tf\n",
    "from tensorflow import keras\n",
    "print(tf.__version__)\n",
    "print(sys.version_info)\n",
    "for module in mpl, np, pd, sklearn,tf,keras:\n",
    "    print(module.__name__,module.__version__)\n",
    "    "
   ]
  },
  {
   "cell_type": "code",
   "execution_count": 2,
   "metadata": {},
   "outputs": [],
   "source": [
    "## 实现步骤：\n",
    "## 1.载入数据\n",
    "## 2.数据预处理-\n",
    "##  2.1 预先生产词表处理\n",
    "##  2.2 加载词表\n",
    "##...\n",
    "## 5.optimizer & loss\n",
    "## 6.train step  --> train\n",
    "## 7.Evaluate and Visualize"
   ]
  },
  {
   "cell_type": "code",
   "execution_count": 4,
   "metadata": {},
   "outputs": [
    {
     "name": "stdout",
     "output_type": "stream",
     "text": [
      "len word_pairs: 320331\n",
      "Wall time: 1.41 s\n"
     ]
    }
   ],
   "source": [
    "%%time\n",
    "## 1.载入数据\n",
    "data_path='data\\\\news-commentary-v14.en-zh.tsv'\n",
    "\n",
    "def create_dataset(path,num_examples):\n",
    "    lines = open(path,encoding='UTF-8').read().strip().split('\\n')\n",
    "#     word_pairs = [ [ preprocess_sentence(w,index) for index,w in enumerate(line.split('\\t')) ] for line in lines[:num_examples]]\n",
    "    word_pairs = [ [ w for index,w in enumerate(line.split('\\t')) ] for line in lines[:num_examples]]\n",
    "    print('len word_pairs:',len(word_pairs))\n",
    "    return zip(*word_pairs)\n",
    "\n",
    "en,cn = create_dataset(data_path,None)# 加载全部数据\n"
   ]
  },
  {
   "cell_type": "code",
   "execution_count": 5,
   "metadata": {},
   "outputs": [
    {
     "name": "stdout",
     "output_type": "stream",
     "text": [
      "Wall time: 0 ns\n"
     ]
    }
   ],
   "source": [
    "%%time\n",
    "## 1.载入数据 为了做词表时使用=== 使用tfds 的SubwordTextEncoder无需事先切词 \n",
    "# data_path='data\\\\news-commentary-v14.en-zh.tsv'\n",
    "\n",
    "# def create_dataset(path,num_examples):\n",
    "#     lines = open(path,encoding='UTF-8').read().strip().split('\\n')\n",
    "#     word_pairs = [ [ w for index,w in enumerate(line.split('\\t')) ] for line in lines[:num_examples]]\n",
    "#     print('len word_pairs:',len(word_pairs))\n",
    "#     return zip(*word_pairs)\n",
    "\n",
    "# en,cn = create_dataset(data_path,None)"
   ]
  },
  {
   "cell_type": "code",
   "execution_count": 6,
   "metadata": {},
   "outputs": [
    {
     "name": "stdout",
     "output_type": "stream",
     "text": [
      "cn_tokkenizer: <SubwordTextEncoder vocab_size=8266>\n",
      "Wall time: 208 ms\n"
     ]
    }
   ],
   "source": [
    "%%time\n",
    "## 加载构建中文词表\n",
    "import tensorflow_datasets as tfds\n",
    "\n",
    "vocab_filename=\"./cn_vocab.txt\"\n",
    "# Build\n",
    "# cn_tokenizer = tfds.features.text.SubwordTextEncoder.build_from_corpus(\n",
    "#     cn, target_vocab_size= 2**13)   ## 首次执政，执行一个多小时\n",
    "# cn_tokenizer.save_to_file(vocab_filename)\n",
    "\n",
    "# Load #构建词表\n",
    "cn_tokenizer = tfds.features.text.SubwordTextEncoder.load_from_file(vocab_filename)\n",
    "print(\"cn_tokkenizer:\",cn_tokenizer)\n"
   ]
  },
  {
   "cell_type": "code",
   "execution_count": 7,
   "metadata": {},
   "outputs": [
    {
     "name": "stdout",
     "output_type": "stream",
     "text": [
      "en_tokenizer: <SubwordTextEncoder vocab_size=8161>\n",
      "Wall time: 29.9 ms\n"
     ]
    }
   ],
   "source": [
    "%%time\n",
    "## 加载构建英文词表\n",
    "import tensorflow_datasets as tfds\n",
    "\n",
    "vocab_filename2=\"./en_vocab.txt\"\n",
    "# Build\n",
    "# en_tokenizer = tfds.features.text.SubwordTextEncoder.build_from_corpus(\n",
    "#     en, target_vocab_size= 2**13)## 首次执政\n",
    "# en_tokenizer.save_to_file(vocab_filename2)\n",
    "\n",
    "#构建词表\n",
    "en_tokenizer = tfds.features.text.SubwordTextEncoder.load_from_file(vocab_filename2)\n",
    "print(\"en_tokenizer:\",en_tokenizer)"
   ]
  },
  {
   "cell_type": "code",
   "execution_count": 8,
   "metadata": {},
   "outputs": [
    {
     "name": "stdout",
     "output_type": "stream",
     "text": [
      "Tokenized string is [2756, 470, 9, 3176, 146, 1741, 7951]\n",
      "The original string is Transformer is awesome.\n",
      "2756 --> \"Trans\"\n",
      "470 --> \"former \"\n",
      "9 --> \"is \"\n",
      "3176 --> \"aw\"\n",
      "146 --> \"es\"\n",
      "1741 --> \"ome\"\n",
      "7951 --> \".\"\n",
      "Tokenized string is [361, 4166, 577, 7639, 4, 3700, 1]\n",
      "The original string is 随着经济危机不断加深和蔓延，\n",
      "361 --> \"随着\"\n",
      "4166 --> \"经济危机\"\n",
      "577 --> \"不断\"\n",
      "7639 --> \"加深\"\n",
      "4 --> \"和\"\n",
      "3700 --> \"蔓延\"\n",
      "1 --> \"，\"\n"
     ]
    }
   ],
   "source": [
    "## 测试词表装ID\n",
    "sample_string = \"Transformer is awesome.\"\n",
    "\n",
    "tokenized_string = en_tokenizer.encode(sample_string)\n",
    "print('Tokenized string is {}'.format(tokenized_string))\n",
    "\n",
    "origin_string = en_tokenizer.decode(tokenized_string)\n",
    "print('The original string is {}'.format(origin_string))\n",
    "\n",
    "assert origin_string == sample_string\n",
    "\n",
    "for token in tokenized_string:\n",
    "    print('{} --> \"{}\"'.format(token, en_tokenizer.decode([token])))\n",
    "    \n",
    "sample_string_cn = \"随着经济危机不断加深和蔓延，\"\n",
    "\n",
    "tokenized_string = cn_tokenizer.encode(sample_string_cn)\n",
    "print('Tokenized string is {}'.format(tokenized_string))\n",
    "\n",
    "origin_string = cn_tokenizer.decode(tokenized_string)\n",
    "print('The original string is {}'.format(origin_string))\n",
    "\n",
    "assert origin_string == sample_string_cn\n",
    "\n",
    "for token in tokenized_string:\n",
    "    print('{} --> \"{}\"'.format(token, cn_tokenizer.decode([token])))"
   ]
  },
  {
   "cell_type": "code",
   "execution_count": 9,
   "metadata": {},
   "outputs": [
    {
     "name": "stdout",
     "output_type": "stream",
     "text": [
      "In fact, very few (if any) of the African countries that signed the 2001 Abuja Declaration to allocate 15% of their budget to health have been able to do so.\n",
      "事实上，在2001年签署了《阿布贾宣言》的非洲国家还没有几个（如果有的话）能兑现将本国15％的预算用于医疗保健的宣言内容。\n"
     ]
    },
    {
     "data": {
      "text/plain": [
       "(256264, 256264, 64067, 64067)"
      ]
     },
     "execution_count": 9,
     "metadata": {},
     "output_type": "execute_result"
    }
   ],
   "source": [
    "## # 训练集与验证集的拆分\n",
    "from sklearn.model_selection import train_test_split\n",
    "\n",
    "\n",
    "input_train_cn,input_val_cn,target_train_en,target_val_en = train_test_split(cn,en,test_size=0.2)\n",
    "print(target_train_en[1])\n",
    "print(input_train_cn[1])\n",
    "len(input_train_cn),len(target_train_en),len(input_val_cn),len(target_val_en)\n"
   ]
  },
  {
   "cell_type": "code",
   "execution_count": 10,
   "metadata": {},
   "outputs": [
    {
     "name": "stdout",
     "output_type": "stream",
     "text": [
      "WARNING:tensorflow:Entity <function tf_encode_to_subword at 0x000001B3AD215268> could not be transformed and will be executed as-is. Please report this to the AutoGraph team. When filing the bug, set the verbosity to 10 (on Linux, `export AUTOGRAPH_VERBOSITY=10`) and attach the full output. Cause: Unable to locate the source code of <function tf_encode_to_subword at 0x000001B3AD215268>. Note that functions defined in certain environments, like the interactive Python shell do not expose their source code. If that is the case, you should to define them in a .py source file. If you are certain the code is graph-compatible, wrap the call using @tf.autograph.do_not_convert. Original error: could not get source code\n",
      "WARNING: Entity <function tf_encode_to_subword at 0x000001B3AD215268> could not be transformed and will be executed as-is. Please report this to the AutoGraph team. When filing the bug, set the verbosity to 10 (on Linux, `export AUTOGRAPH_VERBOSITY=10`) and attach the full output. Cause: Unable to locate the source code of <function tf_encode_to_subword at 0x000001B3AD215268>. Note that functions defined in certain environments, like the interactive Python shell do not expose their source code. If that is the case, you should to define them in a .py source file. If you are certain the code is graph-compatible, wrap the call using @tf.autograph.do_not_convert. Original error: could not get source code\n",
      "WARNING:tensorflow:Entity <function filter_by_max_length at 0x000001B3AD20C1E0> could not be transformed and will be executed as-is. Please report this to the AutoGraph team. When filing the bug, set the verbosity to 10 (on Linux, `export AUTOGRAPH_VERBOSITY=10`) and attach the full output. Cause: Unable to locate the source code of <function filter_by_max_length at 0x000001B3AD20C1E0>. Note that functions defined in certain environments, like the interactive Python shell do not expose their source code. If that is the case, you should to define them in a .py source file. If you are certain the code is graph-compatible, wrap the call using @tf.autograph.do_not_convert. Original error: could not get source code\n",
      "WARNING: Entity <function filter_by_max_length at 0x000001B3AD20C1E0> could not be transformed and will be executed as-is. Please report this to the AutoGraph team. When filing the bug, set the verbosity to 10 (on Linux, `export AUTOGRAPH_VERBOSITY=10`) and attach the full output. Cause: Unable to locate the source code of <function filter_by_max_length at 0x000001B3AD20C1E0>. Note that functions defined in certain environments, like the interactive Python shell do not expose their source code. If that is the case, you should to define them in a .py source file. If you are certain the code is graph-compatible, wrap the call using @tf.autograph.do_not_convert. Original error: could not get source code\n",
      "<PaddedBatchDataset shapes: ((None, None), (None, None)), types: (tf.int64, tf.int64)>\n",
      "(64, 81) (64, 86)\n",
      "(64, 68) (64, 78)\n",
      "Wall time: 1min 33s\n"
     ]
    }
   ],
   "source": [
    "%%time\n",
    "## 2.数据预处理----》dataset\n",
    "buffer_size = len(input_train_cn)\n",
    "batch_size = 64\n",
    "max_length = 180\n",
    "\n",
    "## 转码后，加上，前后缀\n",
    "def encode_to_subword(cn_sentence, en_sentence):\n",
    "    cn_sequence = [cn_tokenizer.vocab_size] \\\n",
    "    + cn_tokenizer.encode(cn_sentence.numpy()) \\\n",
    "    + [cn_tokenizer.vocab_size + 1]\n",
    "    en_sequence = [en_tokenizer.vocab_size] \\\n",
    "    + en_tokenizer.encode(en_sentence.numpy()) \\\n",
    "    + [en_tokenizer.vocab_size + 1]\n",
    "    return cn_sequence, en_sequence\n",
    "\n",
    "def filter_by_max_length(cn, en):\n",
    "    return tf.logical_and(tf.size(cn) <= max_length,\n",
    "                          tf.size(en) <= max_length)\n",
    "\n",
    "def tf_encode_to_subword(cn_sentence, en_sentence):\n",
    "    return tf.py_function(encode_to_subword,\n",
    "                          [cn_sentence, en_sentence],\n",
    "                          [tf.int64, tf.int64])\n",
    "\n",
    "\n",
    "train_examples = tf.data.Dataset.from_tensor_slices((input_train_cn, target_train_en))\n",
    "train_dataset = train_examples.map(tf_encode_to_subword)\n",
    "train_dataset = train_dataset.filter(filter_by_max_length)\n",
    "train_dataset = train_dataset.shuffle(\n",
    "    buffer_size).padded_batch(\n",
    "    batch_size, padded_shapes=([-1], [-1]))\n",
    "\n",
    "\n",
    "val_examples = tf.data.Dataset.from_tensor_slices((input_val_cn, target_val_en))\n",
    "valid_dataset = val_examples.map(tf_encode_to_subword)\n",
    "valid_dataset = valid_dataset.filter(\n",
    "    filter_by_max_length).padded_batch(\n",
    "    batch_size, padded_shapes=([-1], [-1]))\n",
    "print(train_dataset)\n",
    "for cn_batch, en_batch in train_dataset.take(2):\n",
    "    print(cn_batch.shape, en_batch.shape)\n",
    "\n",
    "\n"
   ]
  },
  {
   "cell_type": "code",
   "execution_count": 12,
   "metadata": {},
   "outputs": [],
   "source": [
    "## 5.optimizer & loss\n",
    "## 6.train step  --> train\n",
    "## 7.Evaluate and Visualize"
   ]
  },
  {
   "cell_type": "code",
   "execution_count": 13,
   "metadata": {},
   "outputs": [],
   "source": [
    "## 初始化模型前先定义一些超参数\n",
    "num_layers = 4\n",
    "d_model = 128\n",
    "dff = 512\n",
    "num_heads = 8\n",
    "\n",
    "input_vocab_size = cn_tokenizer.vocab_size + 2\n",
    "target_vocab_size = en_tokenizer.vocab_size + 2\n",
    "\n",
    "dropout_rate = 0.1\n",
    "\n",
    "from commonUtil.transformer.transformer import Transformer\n",
    "\n",
    "#### 模型构建##\n",
    "transformer = Transformer(num_layers,\n",
    "                          input_vocab_size,\n",
    "                          target_vocab_size,\n",
    "                          max_length,\n",
    "                          d_model, num_heads, dff, dropout_rate)"
   ]
  },
  {
   "cell_type": "code",
   "execution_count": 15,
   "metadata": {},
   "outputs": [],
   "source": [
    "## 5.optimizer & loss\n",
    "from commonUtil.transformer.learn_rate import CustomizedSchedule,loss_function\n",
    "learning_rate = CustomizedSchedule(d_model)\n",
    "optimizer = keras.optimizers.Adam(learning_rate,\n",
    "                                  beta_1 = 0.9,\n",
    "                                  beta_2 = 0.98,\n",
    "                                  epsilon = 1e-9)\n",
    "\n",
    "train_loss = keras.metrics.Mean(name='train_loss')\n",
    "train_accuracy = keras.metrics.SparseCategoricalAccuracy(\n",
    "    name='train_accuracy')"
   ]
  },
  {
   "cell_type": "code",
   "execution_count": 55,
   "metadata": {},
   "outputs": [
    {
     "name": "stdout",
     "output_type": "stream",
     "text": [
      "./cn2en_checkpoints\\ckpt-2009\n"
     ]
    }
   ],
   "source": [
    "checkpoint_dir = './cn2en_checkpoints'\n",
    "checkpoint_prefix = os.path.join(checkpoint_dir, \"ckpt\")\n",
    "checkpoint = tf.train.Checkpoint(optimizer=optimizer,\n",
    "                                 model=transformer)\n",
    "if not os.path.exists(checkpoint_dir):\n",
    "    os.mkdir(checkpoint_dir)\n",
    "is_checkpoint=tf.train.latest_checkpoint(checkpoint_dir)\n",
    "print(is_checkpoint)\n",
    "if tf.train.latest_checkpoint(checkpoint_dir):\n",
    "    checkpoint.restore(tf.train.latest_checkpoint(checkpoint_dir))"
   ]
  },
  {
   "cell_type": "code",
   "execution_count": 53,
   "metadata": {},
   "outputs": [],
   "source": [
    "## 6.train step  --> train\n",
    "from commonUtil.transformer.mask import create_masks\n",
    "\n",
    "@tf.function(experimental_relax_shapes=True)\n",
    "def train_step(inp, tar):\n",
    "    tar_inp = tar[:, :-1]\n",
    "    tar_real = tar[:, 1:]\n",
    "\n",
    "    encoder_padding_mask, decoder_mask, encoder_decoder_padding_mask \\\n",
    "        = create_masks(inp, tar_inp)\n",
    "\n",
    "    with tf.GradientTape() as tape:\n",
    "        predictions, _ = transformer(inp, tar_inp, True,\n",
    "                                     encoder_padding_mask,\n",
    "                                     decoder_mask,\n",
    "                                     encoder_decoder_padding_mask)\n",
    "        loss = loss_function(tar_real, predictions)  ## 计算损失函数\n",
    "\n",
    "    gradients = tape.gradient(loss, transformer.trainable_variables) ## 计算梯度\n",
    "    optimizer.apply_gradients(\n",
    "        zip(gradients, transformer.trainable_variables))   ### 梯度应用到变量去\n",
    "    train_loss(loss)\n",
    "    train_accuracy(tar_real, predictions)"
   ]
  },
  {
   "cell_type": "code",
   "execution_count": 54,
   "metadata": {
    "scrolled": true
   },
   "outputs": [
    {
     "name": "stdout",
     "output_type": "stream",
     "text": [
      "Epoch 1 Batch 0 Loss 0.8449 Accuracy 0.2506\n",
      "Epoch 1 Batch 100 Loss 0.8051 Accuracy 0.2390\n",
      "Epoch 1 Batch 200 Loss 0.7951 Accuracy 0.2362\n",
      "Epoch 1 Batch 300 Loss 0.7990 Accuracy 0.2355\n",
      "Epoch 1 Batch 400 Loss 0.8049 Accuracy 0.2365\n",
      "Epoch 1 Batch 500 Loss 0.8081 Accuracy 0.2381\n",
      "Epoch 1 Batch 600 Loss 0.8115 Accuracy 0.2390\n",
      "Epoch 1 Batch 700 Loss 0.8098 Accuracy 0.2377\n",
      "Epoch 1 Batch 800 Loss 0.8088 Accuracy 0.2372\n",
      "Epoch 1 Batch 900 Loss 0.8076 Accuracy 0.2365\n",
      "Epoch 1 Batch 1000 Loss 0.8079 Accuracy 0.2364\n",
      "Epoch 1 Batch 1100 Loss 0.8070 Accuracy 0.2357\n",
      "Epoch 1 Batch 1200 Loss 0.8079 Accuracy 0.2357\n",
      "Epoch 1 Batch 1300 Loss 0.8083 Accuracy 0.2358\n",
      "Epoch 1 Batch 1400 Loss 0.8096 Accuracy 0.2361\n",
      "Epoch 1 Batch 1500 Loss 0.8094 Accuracy 0.2355\n",
      "Epoch 1 Batch 1600 Loss 0.8096 Accuracy 0.2355\n",
      "Epoch 1 Batch 1700 Loss 0.8109 Accuracy 0.2358\n",
      "Epoch 1 Batch 1800 Loss 0.8118 Accuracy 0.2359\n",
      "Epoch 1 Batch 1900 Loss 0.8124 Accuracy 0.2358\n",
      "Epoch 1 Batch 2000 Loss 0.8131 Accuracy 0.2361\n",
      "Epoch 1 Batch 2100 Loss 0.8133 Accuracy 0.2359\n",
      "Epoch 1 Batch 2200 Loss 0.8134 Accuracy 0.2357\n",
      "Epoch 1 Batch 2300 Loss 0.8128 Accuracy 0.2354\n",
      "Epoch 1 Batch 2400 Loss 0.8127 Accuracy 0.2353\n",
      "Epoch 1 Batch 2500 Loss 0.8134 Accuracy 0.2353\n",
      "Epoch 1 Batch 2600 Loss 0.8131 Accuracy 0.2350\n",
      "Epoch 1 Batch 2700 Loss 0.8135 Accuracy 0.2349\n",
      "Epoch 1 Batch 2800 Loss 0.8135 Accuracy 0.2348\n",
      "Epoch 1 Batch 2900 Loss 0.8150 Accuracy 0.2353\n",
      "Epoch 1 Batch 3000 Loss 0.8146 Accuracy 0.2352\n",
      "Epoch 1 Batch 3100 Loss 0.8149 Accuracy 0.2352\n",
      "Epoch 1 Batch 3200 Loss 0.8157 Accuracy 0.2353\n",
      "Epoch 1 Batch 3300 Loss 0.8157 Accuracy 0.2353\n",
      "Epoch 1 Batch 3400 Loss 0.8157 Accuracy 0.2353\n",
      "Epoch 1 Batch 3500 Loss 0.8157 Accuracy 0.2351\n",
      "Epoch 1 Batch 3600 Loss 0.8159 Accuracy 0.2350\n",
      "Epoch 1 Batch 3700 Loss 0.8161 Accuracy 0.2348\n",
      "Epoch 1 Batch 3800 Loss 0.8168 Accuracy 0.2350\n",
      "Epoch 1 Batch 3900 Loss 0.8172 Accuracy 0.2350\n",
      "Epoch 1 Batch 4000 Loss 0.8177 Accuracy 0.2351\n",
      "Epoch 1 Loss 0.8176 Accuracy 0.2351\n",
      "Time take for 1 epoch: 709.5255992412567 secconds \n",
      "\n",
      "Epoch 2 Batch 0 Loss 0.8467 Accuracy 0.2598\n",
      "Epoch 2 Batch 100 Loss 0.7743 Accuracy 0.2293\n",
      "Epoch 2 Batch 200 Loss 0.7841 Accuracy 0.2315\n",
      "Epoch 2 Batch 300 Loss 0.7879 Accuracy 0.2326\n",
      "Epoch 2 Batch 400 Loss 0.7856 Accuracy 0.2313\n",
      "Epoch 2 Batch 500 Loss 0.7896 Accuracy 0.2328\n",
      "Epoch 2 Batch 600 Loss 0.7918 Accuracy 0.2327\n",
      "Epoch 2 Batch 700 Loss 0.7922 Accuracy 0.2332\n",
      "Epoch 2 Batch 800 Loss 0.7924 Accuracy 0.2335\n",
      "Epoch 2 Batch 900 Loss 0.7934 Accuracy 0.2336\n",
      "Epoch 2 Batch 1000 Loss 0.7945 Accuracy 0.2337\n",
      "Epoch 2 Batch 1100 Loss 0.7952 Accuracy 0.2341\n",
      "Epoch 2 Batch 1200 Loss 0.7989 Accuracy 0.2350\n",
      "Epoch 2 Batch 1300 Loss 0.7990 Accuracy 0.2344\n",
      "Epoch 2 Batch 1400 Loss 0.7994 Accuracy 0.2344\n",
      "Epoch 2 Batch 1500 Loss 0.8009 Accuracy 0.2346\n",
      "Epoch 2 Batch 1600 Loss 0.8018 Accuracy 0.2344\n",
      "Epoch 2 Batch 1700 Loss 0.8039 Accuracy 0.2350\n",
      "Epoch 2 Batch 1800 Loss 0.8038 Accuracy 0.2347\n",
      "Epoch 2 Batch 1900 Loss 0.8045 Accuracy 0.2346\n",
      "Epoch 2 Batch 2000 Loss 0.8060 Accuracy 0.2349\n",
      "Epoch 2 Batch 2100 Loss 0.8070 Accuracy 0.2351\n",
      "Epoch 2 Batch 2200 Loss 0.8073 Accuracy 0.2350\n",
      "Epoch 2 Batch 2300 Loss 0.8076 Accuracy 0.2347\n",
      "Epoch 2 Batch 2400 Loss 0.8083 Accuracy 0.2348\n",
      "Epoch 2 Batch 2500 Loss 0.8083 Accuracy 0.2348\n",
      "Epoch 2 Batch 2600 Loss 0.8086 Accuracy 0.2348\n",
      "Epoch 2 Batch 2700 Loss 0.8092 Accuracy 0.2349\n",
      "Epoch 2 Batch 2800 Loss 0.8093 Accuracy 0.2348\n",
      "Epoch 2 Batch 2900 Loss 0.8088 Accuracy 0.2345\n",
      "Epoch 2 Batch 3000 Loss 0.8090 Accuracy 0.2344\n",
      "Epoch 2 Batch 3100 Loss 0.8098 Accuracy 0.2345\n",
      "Epoch 2 Batch 3200 Loss 0.8102 Accuracy 0.2345\n",
      "Epoch 2 Batch 3300 Loss 0.8104 Accuracy 0.2345\n",
      "Epoch 2 Batch 3400 Loss 0.8112 Accuracy 0.2346\n",
      "Epoch 2 Batch 3500 Loss 0.8119 Accuracy 0.2346\n",
      "Epoch 2 Batch 3600 Loss 0.8118 Accuracy 0.2346\n",
      "Epoch 2 Batch 3700 Loss 0.8120 Accuracy 0.2346\n",
      "Epoch 2 Batch 3800 Loss 0.8129 Accuracy 0.2348\n",
      "Epoch 2 Batch 3900 Loss 0.8138 Accuracy 0.2349\n",
      "Epoch 2 Batch 4000 Loss 0.8145 Accuracy 0.2350\n",
      "Epoch 2 Loss 0.8145 Accuracy 0.2350\n",
      "Time take for 1 epoch: 688.3980379104614 secconds \n",
      "\n",
      "Epoch 3 Batch 0 Loss 0.6415 Accuracy 0.1957\n",
      "Epoch 3 Batch 100 Loss 0.7937 Accuracy 0.2395\n",
      "Epoch 3 Batch 200 Loss 0.8024 Accuracy 0.2404\n",
      "Epoch 3 Batch 300 Loss 0.7995 Accuracy 0.2393\n",
      "Epoch 3 Batch 400 Loss 0.7954 Accuracy 0.2378\n",
      "Epoch 3 Batch 500 Loss 0.8005 Accuracy 0.2382\n",
      "Epoch 3 Batch 600 Loss 0.8041 Accuracy 0.2391\n",
      "Epoch 3 Batch 700 Loss 0.8053 Accuracy 0.2391\n",
      "Epoch 3 Batch 800 Loss 0.8060 Accuracy 0.2388\n",
      "Epoch 3 Batch 900 Loss 0.8058 Accuracy 0.2382\n",
      "Epoch 3 Batch 1000 Loss 0.8061 Accuracy 0.2381\n",
      "Epoch 3 Batch 1100 Loss 0.8059 Accuracy 0.2377\n",
      "Epoch 3 Batch 1200 Loss 0.8069 Accuracy 0.2377\n",
      "Epoch 3 Batch 1300 Loss 0.8063 Accuracy 0.2373\n",
      "Epoch 3 Batch 1400 Loss 0.8053 Accuracy 0.2367\n",
      "Epoch 3 Batch 1500 Loss 0.8063 Accuracy 0.2370\n",
      "Epoch 3 Batch 1600 Loss 0.8064 Accuracy 0.2367\n",
      "Epoch 3 Batch 1700 Loss 0.8065 Accuracy 0.2365\n",
      "Epoch 3 Batch 1800 Loss 0.8072 Accuracy 0.2366\n",
      "Epoch 3 Batch 1900 Loss 0.8085 Accuracy 0.2369\n",
      "Epoch 3 Batch 2000 Loss 0.8086 Accuracy 0.2368\n",
      "Epoch 3 Batch 2100 Loss 0.8090 Accuracy 0.2367\n",
      "Epoch 3 Batch 2200 Loss 0.8099 Accuracy 0.2369\n",
      "Epoch 3 Batch 2300 Loss 0.8099 Accuracy 0.2367\n",
      "Epoch 3 Batch 2400 Loss 0.8102 Accuracy 0.2368\n",
      "Epoch 3 Batch 2500 Loss 0.8112 Accuracy 0.2370\n",
      "Epoch 3 Batch 2600 Loss 0.8118 Accuracy 0.2371\n",
      "Epoch 3 Batch 2700 Loss 0.8120 Accuracy 0.2370\n",
      "Epoch 3 Batch 2800 Loss 0.8117 Accuracy 0.2368\n",
      "Epoch 3 Batch 2900 Loss 0.8118 Accuracy 0.2366\n",
      "Epoch 3 Batch 3000 Loss 0.8117 Accuracy 0.2365\n",
      "Epoch 3 Batch 3100 Loss 0.8121 Accuracy 0.2365\n",
      "Epoch 3 Batch 3200 Loss 0.8122 Accuracy 0.2363\n",
      "Epoch 3 Batch 3300 Loss 0.8127 Accuracy 0.2362\n",
      "Epoch 3 Batch 3400 Loss 0.8130 Accuracy 0.2362\n",
      "Epoch 3 Batch 3500 Loss 0.8133 Accuracy 0.2361\n",
      "Epoch 3 Batch 3600 Loss 0.8141 Accuracy 0.2362\n",
      "Epoch 3 Batch 3700 Loss 0.8142 Accuracy 0.2363\n",
      "Epoch 3 Batch 3800 Loss 0.8138 Accuracy 0.2360\n",
      "Epoch 3 Batch 3900 Loss 0.8140 Accuracy 0.2360\n",
      "Epoch 3 Batch 4000 Loss 0.8142 Accuracy 0.2359\n",
      "Epoch 3 Loss 0.8141 Accuracy 0.2359\n",
      "Time take for 1 epoch: 688.612452507019 secconds \n",
      "\n",
      "Epoch 4 Batch 0 Loss 0.9485 Accuracy 0.3053\n",
      "Epoch 4 Batch 100 Loss 0.7762 Accuracy 0.2359\n",
      "Epoch 4 Batch 200 Loss 0.7800 Accuracy 0.2346\n",
      "Epoch 4 Batch 300 Loss 0.7847 Accuracy 0.2345\n",
      "Epoch 4 Batch 400 Loss 0.7900 Accuracy 0.2361\n",
      "Epoch 4 Batch 500 Loss 0.7923 Accuracy 0.2357\n",
      "Epoch 4 Batch 600 Loss 0.7950 Accuracy 0.2360\n",
      "Epoch 4 Batch 700 Loss 0.7962 Accuracy 0.2363\n",
      "Epoch 4 Batch 800 Loss 0.7977 Accuracy 0.2365\n",
      "Epoch 4 Batch 900 Loss 0.7969 Accuracy 0.2361\n",
      "Epoch 4 Batch 1000 Loss 0.7963 Accuracy 0.2360\n",
      "Epoch 4 Batch 1100 Loss 0.7970 Accuracy 0.2359\n",
      "Epoch 4 Batch 1200 Loss 0.7986 Accuracy 0.2359\n",
      "Epoch 4 Batch 1300 Loss 0.7990 Accuracy 0.2359\n",
      "Epoch 4 Batch 1400 Loss 0.7996 Accuracy 0.2358\n",
      "Epoch 4 Batch 1500 Loss 0.8006 Accuracy 0.2360\n",
      "Epoch 4 Batch 1600 Loss 0.8004 Accuracy 0.2359\n",
      "Epoch 4 Batch 1700 Loss 0.8013 Accuracy 0.2358\n",
      "Epoch 4 Batch 1800 Loss 0.8014 Accuracy 0.2359\n",
      "Epoch 4 Batch 1900 Loss 0.8025 Accuracy 0.2359\n",
      "Epoch 4 Batch 2000 Loss 0.8044 Accuracy 0.2363\n",
      "Epoch 4 Batch 2100 Loss 0.8040 Accuracy 0.2359\n",
      "Epoch 4 Batch 2200 Loss 0.8043 Accuracy 0.2359\n",
      "Epoch 4 Batch 2300 Loss 0.8035 Accuracy 0.2354\n",
      "Epoch 4 Batch 2400 Loss 0.8050 Accuracy 0.2357\n",
      "Epoch 4 Batch 2500 Loss 0.8056 Accuracy 0.2358\n",
      "Epoch 4 Batch 2600 Loss 0.8068 Accuracy 0.2359\n",
      "Epoch 4 Batch 2700 Loss 0.8064 Accuracy 0.2356\n",
      "Epoch 4 Batch 2800 Loss 0.8067 Accuracy 0.2356\n",
      "Epoch 4 Batch 2900 Loss 0.8079 Accuracy 0.2358\n",
      "Epoch 4 Batch 3000 Loss 0.8085 Accuracy 0.2359\n",
      "Epoch 4 Batch 3100 Loss 0.8089 Accuracy 0.2359\n",
      "Epoch 4 Batch 3200 Loss 0.8098 Accuracy 0.2361\n",
      "Epoch 4 Batch 3300 Loss 0.8096 Accuracy 0.2359\n",
      "Epoch 4 Batch 3400 Loss 0.8099 Accuracy 0.2359\n",
      "Epoch 4 Batch 3500 Loss 0.8104 Accuracy 0.2360\n",
      "Epoch 4 Batch 3600 Loss 0.8109 Accuracy 0.2360\n",
      "Epoch 4 Batch 3700 Loss 0.8111 Accuracy 0.2360\n",
      "Epoch 4 Batch 3800 Loss 0.8114 Accuracy 0.2360\n",
      "Epoch 4 Batch 3900 Loss 0.8114 Accuracy 0.2359\n",
      "Epoch 4 Batch 4000 Loss 0.8116 Accuracy 0.2359\n",
      "Epoch 4 Loss 0.8115 Accuracy 0.2359\n",
      "Time take for 1 epoch: 691.4977431297302 secconds \n",
      "\n",
      "Epoch 5 Batch 0 Loss 0.5886 Accuracy 0.1626\n",
      "Epoch 5 Batch 100 Loss 0.8004 Accuracy 0.2470\n",
      "Epoch 5 Batch 200 Loss 0.7918 Accuracy 0.2405\n",
      "Epoch 5 Batch 300 Loss 0.7971 Accuracy 0.2389\n",
      "Epoch 5 Batch 400 Loss 0.7912 Accuracy 0.2362\n",
      "Epoch 5 Batch 500 Loss 0.7950 Accuracy 0.2370\n",
      "Epoch 5 Batch 600 Loss 0.7931 Accuracy 0.2356\n",
      "Epoch 5 Batch 700 Loss 0.7956 Accuracy 0.2361\n",
      "Epoch 5 Batch 800 Loss 0.7954 Accuracy 0.2360\n",
      "Epoch 5 Batch 900 Loss 0.7970 Accuracy 0.2366\n",
      "Epoch 5 Batch 1000 Loss 0.7967 Accuracy 0.2361\n",
      "Epoch 5 Batch 1100 Loss 0.7986 Accuracy 0.2367\n",
      "Epoch 5 Batch 1200 Loss 0.8002 Accuracy 0.2370\n",
      "Epoch 5 Batch 1300 Loss 0.8017 Accuracy 0.2372\n",
      "Epoch 5 Batch 1400 Loss 0.8026 Accuracy 0.2372\n",
      "Epoch 5 Batch 1500 Loss 0.8026 Accuracy 0.2370\n",
      "Epoch 5 Batch 1600 Loss 0.8038 Accuracy 0.2374\n",
      "Epoch 5 Batch 1700 Loss 0.8032 Accuracy 0.2370\n",
      "Epoch 5 Batch 1800 Loss 0.8032 Accuracy 0.2367\n",
      "Epoch 5 Batch 1900 Loss 0.8037 Accuracy 0.2366\n",
      "Epoch 5 Batch 2000 Loss 0.8037 Accuracy 0.2364\n",
      "Epoch 5 Batch 2100 Loss 0.8044 Accuracy 0.2365\n",
      "Epoch 5 Batch 2200 Loss 0.8057 Accuracy 0.2368\n",
      "Epoch 5 Batch 2300 Loss 0.8063 Accuracy 0.2369\n",
      "Epoch 5 Batch 2400 Loss 0.8070 Accuracy 0.2369\n",
      "Epoch 5 Batch 2500 Loss 0.8077 Accuracy 0.2371\n",
      "Epoch 5 Batch 2600 Loss 0.8086 Accuracy 0.2373\n",
      "Epoch 5 Batch 2700 Loss 0.8083 Accuracy 0.2370\n",
      "Epoch 5 Batch 2800 Loss 0.8094 Accuracy 0.2372\n",
      "Epoch 5 Batch 2900 Loss 0.8097 Accuracy 0.2371\n",
      "Epoch 5 Batch 3000 Loss 0.8098 Accuracy 0.2372\n",
      "Epoch 5 Batch 3100 Loss 0.8097 Accuracy 0.2371\n",
      "Epoch 5 Batch 3200 Loss 0.8099 Accuracy 0.2370\n",
      "Epoch 5 Batch 3300 Loss 0.8099 Accuracy 0.2369\n",
      "Epoch 5 Batch 3400 Loss 0.8103 Accuracy 0.2369\n",
      "Epoch 5 Batch 3500 Loss 0.8103 Accuracy 0.2368\n",
      "Epoch 5 Batch 3600 Loss 0.8099 Accuracy 0.2367\n",
      "Epoch 5 Batch 3700 Loss 0.8098 Accuracy 0.2365\n",
      "Epoch 5 Batch 3800 Loss 0.8101 Accuracy 0.2365\n",
      "Epoch 5 Batch 3900 Loss 0.8108 Accuracy 0.2366\n",
      "Epoch 5 Batch 4000 Loss 0.8107 Accuracy 0.2365\n",
      "Epoch 5 Loss 0.8108 Accuracy 0.2365\n",
      "Time take for 1 epoch: 689.7733533382416 secconds \n",
      "\n",
      "Epoch 6 Batch 0 Loss 0.8861 Accuracy 0.2906\n",
      "Epoch 6 Batch 100 Loss 0.7608 Accuracy 0.2308\n",
      "Epoch 6 Batch 200 Loss 0.7702 Accuracy 0.2320\n",
      "Epoch 6 Batch 300 Loss 0.7772 Accuracy 0.2338\n",
      "Epoch 6 Batch 400 Loss 0.7786 Accuracy 0.2341\n",
      "Epoch 6 Batch 500 Loss 0.7830 Accuracy 0.2351\n",
      "Epoch 6 Batch 600 Loss 0.7823 Accuracy 0.2339\n",
      "Epoch 6 Batch 700 Loss 0.7834 Accuracy 0.2344\n",
      "Epoch 6 Batch 800 Loss 0.7864 Accuracy 0.2350\n",
      "Epoch 6 Batch 900 Loss 0.7884 Accuracy 0.2356\n",
      "Epoch 6 Batch 1000 Loss 0.7914 Accuracy 0.2362\n",
      "Epoch 6 Batch 1100 Loss 0.7922 Accuracy 0.2362\n",
      "Epoch 6 Batch 1200 Loss 0.7925 Accuracy 0.2361\n",
      "Epoch 6 Batch 1300 Loss 0.7935 Accuracy 0.2361\n",
      "Epoch 6 Batch 1400 Loss 0.7944 Accuracy 0.2360\n",
      "Epoch 6 Batch 1500 Loss 0.7955 Accuracy 0.2362\n",
      "Epoch 6 Batch 1600 Loss 0.7962 Accuracy 0.2364\n",
      "Epoch 6 Batch 1700 Loss 0.7961 Accuracy 0.2363\n",
      "Epoch 6 Batch 1800 Loss 0.7976 Accuracy 0.2365\n",
      "Epoch 6 Batch 1900 Loss 0.7975 Accuracy 0.2363\n",
      "Epoch 6 Batch 2000 Loss 0.7987 Accuracy 0.2366\n",
      "Epoch 6 Batch 2100 Loss 0.7995 Accuracy 0.2367\n",
      "Epoch 6 Batch 2200 Loss 0.8003 Accuracy 0.2368\n",
      "Epoch 6 Batch 2300 Loss 0.8004 Accuracy 0.2366\n",
      "Epoch 6 Batch 2400 Loss 0.8004 Accuracy 0.2363\n",
      "Epoch 6 Batch 2500 Loss 0.8018 Accuracy 0.2364\n",
      "Epoch 6 Batch 2600 Loss 0.8025 Accuracy 0.2364\n",
      "Epoch 6 Batch 2700 Loss 0.8024 Accuracy 0.2363\n",
      "Epoch 6 Batch 2800 Loss 0.8031 Accuracy 0.2363\n",
      "Epoch 6 Batch 2900 Loss 0.8029 Accuracy 0.2363\n",
      "Epoch 6 Batch 3000 Loss 0.8030 Accuracy 0.2362\n",
      "Epoch 6 Batch 3100 Loss 0.8034 Accuracy 0.2363\n",
      "Epoch 6 Batch 3200 Loss 0.8034 Accuracy 0.2362\n",
      "Epoch 6 Batch 3300 Loss 0.8049 Accuracy 0.2366\n",
      "Epoch 6 Batch 3400 Loss 0.8049 Accuracy 0.2364\n",
      "Epoch 6 Batch 3500 Loss 0.8058 Accuracy 0.2366\n",
      "Epoch 6 Batch 3600 Loss 0.8066 Accuracy 0.2368\n",
      "Epoch 6 Batch 3700 Loss 0.8071 Accuracy 0.2367\n",
      "Epoch 6 Batch 3800 Loss 0.8072 Accuracy 0.2367\n",
      "Epoch 6 Batch 3900 Loss 0.8072 Accuracy 0.2365\n",
      "Epoch 6 Batch 4000 Loss 0.8076 Accuracy 0.2366\n",
      "Epoch 6 Loss 0.8076 Accuracy 0.2365\n",
      "Time take for 1 epoch: 688.6573374271393 secconds \n",
      "\n",
      "Epoch 7 Batch 0 Loss 0.6202 Accuracy 0.1943\n",
      "Epoch 7 Batch 100 Loss 0.7839 Accuracy 0.2411\n",
      "Epoch 7 Batch 200 Loss 0.7896 Accuracy 0.2428\n",
      "Epoch 7 Batch 300 Loss 0.7929 Accuracy 0.2426\n",
      "Epoch 7 Batch 400 Loss 0.7983 Accuracy 0.2429\n",
      "Epoch 7 Batch 500 Loss 0.7985 Accuracy 0.2421\n",
      "Epoch 7 Batch 600 Loss 0.7984 Accuracy 0.2408\n",
      "Epoch 7 Batch 700 Loss 0.7967 Accuracy 0.2402\n",
      "Epoch 7 Batch 800 Loss 0.7953 Accuracy 0.2392\n",
      "Epoch 7 Batch 900 Loss 0.7959 Accuracy 0.2387\n",
      "Epoch 7 Batch 1000 Loss 0.7952 Accuracy 0.2384\n",
      "Epoch 7 Batch 1100 Loss 0.7954 Accuracy 0.2384\n",
      "Epoch 7 Batch 1200 Loss 0.7944 Accuracy 0.2378\n",
      "Epoch 7 Batch 1300 Loss 0.7960 Accuracy 0.2381\n",
      "Epoch 7 Batch 1400 Loss 0.7963 Accuracy 0.2380\n",
      "Epoch 7 Batch 1500 Loss 0.7949 Accuracy 0.2374\n",
      "Epoch 7 Batch 1600 Loss 0.7938 Accuracy 0.2370\n",
      "Epoch 7 Batch 1700 Loss 0.7953 Accuracy 0.2372\n",
      "Epoch 7 Batch 1800 Loss 0.7954 Accuracy 0.2373\n",
      "Epoch 7 Batch 1900 Loss 0.7954 Accuracy 0.2372\n",
      "Epoch 7 Batch 2000 Loss 0.7960 Accuracy 0.2372\n",
      "Epoch 7 Batch 2100 Loss 0.7965 Accuracy 0.2370\n",
      "Epoch 7 Batch 2200 Loss 0.7982 Accuracy 0.2372\n",
      "Epoch 7 Batch 2300 Loss 0.7988 Accuracy 0.2374\n",
      "Epoch 7 Batch 2400 Loss 0.7992 Accuracy 0.2371\n",
      "Epoch 7 Batch 2500 Loss 0.7989 Accuracy 0.2367\n",
      "Epoch 7 Batch 2600 Loss 0.7994 Accuracy 0.2368\n",
      "Epoch 7 Batch 2700 Loss 0.7999 Accuracy 0.2367\n",
      "Epoch 7 Batch 2800 Loss 0.8003 Accuracy 0.2367\n",
      "Epoch 7 Batch 2900 Loss 0.8009 Accuracy 0.2369\n",
      "Epoch 7 Batch 3000 Loss 0.8012 Accuracy 0.2368\n",
      "Epoch 7 Batch 3100 Loss 0.8019 Accuracy 0.2369\n",
      "Epoch 7 Batch 3200 Loss 0.8024 Accuracy 0.2368\n",
      "Epoch 7 Batch 3300 Loss 0.8030 Accuracy 0.2368\n",
      "Epoch 7 Batch 3400 Loss 0.8037 Accuracy 0.2369\n",
      "Epoch 7 Batch 3500 Loss 0.8039 Accuracy 0.2368\n",
      "Epoch 7 Batch 3600 Loss 0.8041 Accuracy 0.2366\n",
      "Epoch 7 Batch 3700 Loss 0.8045 Accuracy 0.2366\n",
      "Epoch 7 Batch 3800 Loss 0.8046 Accuracy 0.2366\n",
      "Epoch 7 Batch 3900 Loss 0.8052 Accuracy 0.2367\n",
      "Epoch 7 Batch 4000 Loss 0.8053 Accuracy 0.2367\n",
      "Epoch 7 Loss 0.8054 Accuracy 0.2367\n",
      "Time take for 1 epoch: 689.5050976276398 secconds \n",
      "\n",
      "Epoch 8 Batch 0 Loss 0.7600 Accuracy 0.2265\n",
      "Epoch 8 Batch 100 Loss 0.7802 Accuracy 0.2389\n",
      "Epoch 8 Batch 200 Loss 0.7830 Accuracy 0.2406\n",
      "Epoch 8 Batch 300 Loss 0.7855 Accuracy 0.2401\n",
      "Epoch 8 Batch 400 Loss 0.7878 Accuracy 0.2407\n",
      "Epoch 8 Batch 500 Loss 0.7861 Accuracy 0.2389\n",
      "Epoch 8 Batch 600 Loss 0.7872 Accuracy 0.2391\n",
      "Epoch 8 Batch 700 Loss 0.7877 Accuracy 0.2388\n",
      "Epoch 8 Batch 800 Loss 0.7916 Accuracy 0.2395\n",
      "Epoch 8 Batch 900 Loss 0.7919 Accuracy 0.2394\n",
      "Epoch 8 Batch 1000 Loss 0.7933 Accuracy 0.2391\n",
      "Epoch 8 Batch 1100 Loss 0.7951 Accuracy 0.2393\n",
      "Epoch 8 Batch 1200 Loss 0.7951 Accuracy 0.2387\n",
      "Epoch 8 Batch 1300 Loss 0.7966 Accuracy 0.2389\n",
      "Epoch 8 Batch 1400 Loss 0.7979 Accuracy 0.2389\n",
      "Epoch 8 Batch 1500 Loss 0.7991 Accuracy 0.2393\n",
      "Epoch 8 Batch 1600 Loss 0.7991 Accuracy 0.2391\n",
      "Epoch 8 Batch 1700 Loss 0.7999 Accuracy 0.2391\n",
      "Epoch 8 Batch 1800 Loss 0.8003 Accuracy 0.2391\n",
      "Epoch 8 Batch 1900 Loss 0.8010 Accuracy 0.2393\n",
      "Epoch 8 Batch 2000 Loss 0.8006 Accuracy 0.2389\n",
      "Epoch 8 Batch 2100 Loss 0.8013 Accuracy 0.2390\n",
      "Epoch 8 Batch 2200 Loss 0.8021 Accuracy 0.2391\n",
      "Epoch 8 Batch 2300 Loss 0.8015 Accuracy 0.2387\n",
      "Epoch 8 Batch 2400 Loss 0.8011 Accuracy 0.2384\n",
      "Epoch 8 Batch 2500 Loss 0.8016 Accuracy 0.2383\n",
      "Epoch 8 Batch 2600 Loss 0.8028 Accuracy 0.2385\n",
      "Epoch 8 Batch 2700 Loss 0.8029 Accuracy 0.2383\n",
      "Epoch 8 Batch 2800 Loss 0.8027 Accuracy 0.2381\n",
      "Epoch 8 Batch 2900 Loss 0.8023 Accuracy 0.2377\n",
      "Epoch 8 Batch 3000 Loss 0.8028 Accuracy 0.2377\n",
      "Epoch 8 Batch 3100 Loss 0.8029 Accuracy 0.2377\n",
      "Epoch 8 Batch 3200 Loss 0.8032 Accuracy 0.2377\n",
      "Epoch 8 Batch 3300 Loss 0.8032 Accuracy 0.2374\n",
      "Epoch 8 Batch 3400 Loss 0.8037 Accuracy 0.2374\n",
      "Epoch 8 Batch 3500 Loss 0.8039 Accuracy 0.2373\n",
      "Epoch 8 Batch 3600 Loss 0.8039 Accuracy 0.2372\n",
      "Epoch 8 Batch 3700 Loss 0.8046 Accuracy 0.2373\n",
      "Epoch 8 Batch 3800 Loss 0.8046 Accuracy 0.2373\n",
      "Epoch 8 Batch 3900 Loss 0.8052 Accuracy 0.2374\n",
      "Epoch 8 Batch 4000 Loss 0.8057 Accuracy 0.2375\n",
      "Epoch 8 Loss 0.8058 Accuracy 0.2375\n",
      "Time take for 1 epoch: 686.9120056629181 secconds \n",
      "\n",
      "Epoch 9 Batch 0 Loss 0.6826 Accuracy 0.2020\n",
      "Epoch 9 Batch 100 Loss 0.7886 Accuracy 0.2411\n",
      "Epoch 9 Batch 200 Loss 0.7874 Accuracy 0.2395\n",
      "Epoch 9 Batch 300 Loss 0.7836 Accuracy 0.2371\n",
      "Epoch 9 Batch 400 Loss 0.7824 Accuracy 0.2375\n",
      "Epoch 9 Batch 500 Loss 0.7862 Accuracy 0.2375\n",
      "Epoch 9 Batch 600 Loss 0.7862 Accuracy 0.2378\n",
      "Epoch 9 Batch 700 Loss 0.7870 Accuracy 0.2375\n",
      "Epoch 9 Batch 800 Loss 0.7877 Accuracy 0.2375\n",
      "Epoch 9 Batch 900 Loss 0.7879 Accuracy 0.2372\n",
      "Epoch 9 Batch 1000 Loss 0.7864 Accuracy 0.2364\n",
      "Epoch 9 Batch 1100 Loss 0.7874 Accuracy 0.2366\n",
      "Epoch 9 Batch 1200 Loss 0.7873 Accuracy 0.2366\n",
      "Epoch 9 Batch 1300 Loss 0.7898 Accuracy 0.2370\n",
      "Epoch 9 Batch 1400 Loss 0.7911 Accuracy 0.2373\n",
      "Epoch 9 Batch 1500 Loss 0.7912 Accuracy 0.2375\n",
      "Epoch 9 Batch 1600 Loss 0.7918 Accuracy 0.2375\n",
      "Epoch 9 Batch 1700 Loss 0.7932 Accuracy 0.2379\n",
      "Epoch 9 Batch 1800 Loss 0.7936 Accuracy 0.2376\n",
      "Epoch 9 Batch 1900 Loss 0.7937 Accuracy 0.2373\n",
      "Epoch 9 Batch 2000 Loss 0.7946 Accuracy 0.2376\n",
      "Epoch 9 Batch 2100 Loss 0.7960 Accuracy 0.2379\n",
      "Epoch 9 Batch 2200 Loss 0.7964 Accuracy 0.2377\n",
      "Epoch 9 Batch 2300 Loss 0.7963 Accuracy 0.2374\n",
      "Epoch 9 Batch 2400 Loss 0.7964 Accuracy 0.2373\n",
      "Epoch 9 Batch 2500 Loss 0.7963 Accuracy 0.2372\n",
      "Epoch 9 Batch 2600 Loss 0.7980 Accuracy 0.2375\n",
      "Epoch 9 Batch 2700 Loss 0.7986 Accuracy 0.2376\n",
      "Epoch 9 Batch 2800 Loss 0.7988 Accuracy 0.2377\n",
      "Epoch 9 Batch 2900 Loss 0.7990 Accuracy 0.2375\n",
      "Epoch 9 Batch 3000 Loss 0.7996 Accuracy 0.2377\n",
      "Epoch 9 Batch 3100 Loss 0.7999 Accuracy 0.2377\n",
      "Epoch 9 Batch 3200 Loss 0.8000 Accuracy 0.2375\n",
      "Epoch 9 Batch 3300 Loss 0.8004 Accuracy 0.2374\n",
      "Epoch 9 Batch 3400 Loss 0.8000 Accuracy 0.2372\n",
      "Epoch 9 Batch 3500 Loss 0.8001 Accuracy 0.2371\n",
      "Epoch 9 Batch 3600 Loss 0.8008 Accuracy 0.2373\n",
      "Epoch 9 Batch 3700 Loss 0.8008 Accuracy 0.2372\n",
      "Epoch 9 Batch 3800 Loss 0.8010 Accuracy 0.2371\n",
      "Epoch 9 Batch 3900 Loss 0.8016 Accuracy 0.2372\n",
      "Epoch 9 Batch 4000 Loss 0.8023 Accuracy 0.2373\n",
      "Epoch 9 Loss 0.8023 Accuracy 0.2373\n",
      "Time take for 1 epoch: 693.60111784935 secconds \n",
      "\n"
     ]
    },
    {
     "ename": "KeyboardInterrupt",
     "evalue": "",
     "output_type": "error",
     "traceback": [
      "\u001b[1;31m---------------------------------------------------------------------------\u001b[0m",
      "\u001b[1;31mKeyboardInterrupt\u001b[0m                         Traceback (most recent call last)",
      "\u001b[1;32m<timed exec>\u001b[0m in \u001b[0;36m<module>\u001b[1;34m\u001b[0m\n",
      "\u001b[1;32mc:\\users\\jandy\\envs\\tf2gpu\\lib\\site-packages\\tensorflow_core\\python\\data\\ops\\iterator_ops.py\u001b[0m in \u001b[0;36m__next__\u001b[1;34m(self)\u001b[0m\n\u001b[0;32m    620\u001b[0m \u001b[1;33m\u001b[0m\u001b[0m\n\u001b[0;32m    621\u001b[0m   \u001b[1;32mdef\u001b[0m \u001b[0m__next__\u001b[0m\u001b[1;33m(\u001b[0m\u001b[0mself\u001b[0m\u001b[1;33m)\u001b[0m\u001b[1;33m:\u001b[0m  \u001b[1;31m# For Python 3 compatibility\u001b[0m\u001b[1;33m\u001b[0m\u001b[0m\n\u001b[1;32m--> 622\u001b[1;33m     \u001b[1;32mreturn\u001b[0m \u001b[0mself\u001b[0m\u001b[1;33m.\u001b[0m\u001b[0mnext\u001b[0m\u001b[1;33m(\u001b[0m\u001b[1;33m)\u001b[0m\u001b[1;33m\u001b[0m\u001b[0m\n\u001b[0m\u001b[0;32m    623\u001b[0m \u001b[1;33m\u001b[0m\u001b[0m\n\u001b[0;32m    624\u001b[0m   \u001b[1;32mdef\u001b[0m \u001b[0m_next_internal\u001b[0m\u001b[1;33m(\u001b[0m\u001b[0mself\u001b[0m\u001b[1;33m)\u001b[0m\u001b[1;33m:\u001b[0m\u001b[1;33m\u001b[0m\u001b[0m\n",
      "\u001b[1;32mc:\\users\\jandy\\envs\\tf2gpu\\lib\\site-packages\\tensorflow_core\\python\\data\\ops\\iterator_ops.py\u001b[0m in \u001b[0;36mnext\u001b[1;34m(self)\u001b[0m\n\u001b[0;32m    664\u001b[0m     \u001b[1;34m\"\"\"Returns a nested structure of `Tensor`s containing the next element.\"\"\"\u001b[0m\u001b[1;33m\u001b[0m\u001b[0m\n\u001b[0;32m    665\u001b[0m     \u001b[1;32mtry\u001b[0m\u001b[1;33m:\u001b[0m\u001b[1;33m\u001b[0m\u001b[0m\n\u001b[1;32m--> 666\u001b[1;33m       \u001b[1;32mreturn\u001b[0m \u001b[0mself\u001b[0m\u001b[1;33m.\u001b[0m\u001b[0m_next_internal\u001b[0m\u001b[1;33m(\u001b[0m\u001b[1;33m)\u001b[0m\u001b[1;33m\u001b[0m\u001b[0m\n\u001b[0m\u001b[0;32m    667\u001b[0m     \u001b[1;32mexcept\u001b[0m \u001b[0merrors\u001b[0m\u001b[1;33m.\u001b[0m\u001b[0mOutOfRangeError\u001b[0m\u001b[1;33m:\u001b[0m\u001b[1;33m\u001b[0m\u001b[0m\n\u001b[0;32m    668\u001b[0m       \u001b[1;32mraise\u001b[0m \u001b[0mStopIteration\u001b[0m\u001b[1;33m\u001b[0m\u001b[0m\n",
      "\u001b[1;32mc:\\users\\jandy\\envs\\tf2gpu\\lib\\site-packages\\tensorflow_core\\python\\data\\ops\\iterator_ops.py\u001b[0m in \u001b[0;36m_next_internal\u001b[1;34m(self)\u001b[0m\n\u001b[0;32m    649\u001b[0m             \u001b[0mself\u001b[0m\u001b[1;33m.\u001b[0m\u001b[0m_iterator_resource\u001b[0m\u001b[1;33m,\u001b[0m\u001b[1;33m\u001b[0m\u001b[0m\n\u001b[0;32m    650\u001b[0m             \u001b[0moutput_types\u001b[0m\u001b[1;33m=\u001b[0m\u001b[0mself\u001b[0m\u001b[1;33m.\u001b[0m\u001b[0m_flat_output_types\u001b[0m\u001b[1;33m,\u001b[0m\u001b[1;33m\u001b[0m\u001b[0m\n\u001b[1;32m--> 651\u001b[1;33m             output_shapes=self._flat_output_shapes)\n\u001b[0m\u001b[0;32m    652\u001b[0m \u001b[1;33m\u001b[0m\u001b[0m\n\u001b[0;32m    653\u001b[0m       \u001b[1;32mtry\u001b[0m\u001b[1;33m:\u001b[0m\u001b[1;33m\u001b[0m\u001b[0m\n",
      "\u001b[1;32mc:\\users\\jandy\\envs\\tf2gpu\\lib\\site-packages\\tensorflow_core\\python\\ops\\gen_dataset_ops.py\u001b[0m in \u001b[0;36miterator_get_next_sync\u001b[1;34m(iterator, output_types, output_shapes, name)\u001b[0m\n\u001b[0;32m   2657\u001b[0m         \u001b[0m_ctx\u001b[0m\u001b[1;33m.\u001b[0m\u001b[0m_context_handle\u001b[0m\u001b[1;33m,\u001b[0m \u001b[0m_ctx\u001b[0m\u001b[1;33m.\u001b[0m\u001b[0m_thread_local_data\u001b[0m\u001b[1;33m.\u001b[0m\u001b[0mdevice_name\u001b[0m\u001b[1;33m,\u001b[0m\u001b[1;33m\u001b[0m\u001b[0m\n\u001b[0;32m   2658\u001b[0m         \u001b[1;34m\"IteratorGetNextSync\"\u001b[0m\u001b[1;33m,\u001b[0m \u001b[0mname\u001b[0m\u001b[1;33m,\u001b[0m \u001b[0m_ctx\u001b[0m\u001b[1;33m.\u001b[0m\u001b[0m_post_execution_callbacks\u001b[0m\u001b[1;33m,\u001b[0m \u001b[0miterator\u001b[0m\u001b[1;33m,\u001b[0m\u001b[1;33m\u001b[0m\u001b[0m\n\u001b[1;32m-> 2659\u001b[1;33m         \"output_types\", output_types, \"output_shapes\", output_shapes)\n\u001b[0m\u001b[0;32m   2660\u001b[0m       \u001b[1;32mreturn\u001b[0m \u001b[0m_result\u001b[0m\u001b[1;33m\u001b[0m\u001b[0m\n\u001b[0;32m   2661\u001b[0m     \u001b[1;32mexcept\u001b[0m \u001b[0m_core\u001b[0m\u001b[1;33m.\u001b[0m\u001b[0m_FallbackException\u001b[0m\u001b[1;33m:\u001b[0m\u001b[1;33m\u001b[0m\u001b[0m\n",
      "\u001b[1;31mKeyboardInterrupt\u001b[0m: "
     ]
    }
   ],
   "source": [
    "%%time\n",
    "epochs=20\n",
    "for epoch in range(epochs):\n",
    "    start = time.time()\n",
    "    train_loss.reset_states()\n",
    "    train_accuracy.reset_states()\n",
    "    \n",
    "    for (batch,(inp,tar)) in enumerate(train_dataset):\n",
    "        train_step(inp,tar)\n",
    "        if batch % 100 ==0:\n",
    "#             print('Epoch {} Batch {} Loss {:.4f} Accuracy {:.4f}'.format(train_accuracy.result()))\n",
    "            print('Epoch {} Batch {} Loss {:.4f} Accuracy {:.4f}'.format(\n",
    "                epoch + 1, batch, train_loss.result(),\n",
    "                train_accuracy.result()))\n",
    "            checkpoint.save(file_prefix = checkpoint_prefix)\n",
    "    print('Epoch {} Loss {:.4f} Accuracy {:.4f}'.format(epoch+1,train_loss.result(),train_accuracy.result()))\n",
    "    print('Time take for 1 epoch: {} secconds \\n'.format(time.time() - start))"
   ]
  },
  {
   "cell_type": "code",
   "execution_count": 43,
   "metadata": {},
   "outputs": [],
   "source": [
    "\"\"\"\n",
    "eg: A B C D -> E F G H.\n",
    "Train: A B C D, E F G -> F G H\n",
    "Eval:  A B C D -> E\n",
    "       A B C D, E -> F\n",
    "       A B C D, E F -> G\n",
    "       A B C D, E F G -> H\n",
    "\"\"\"\n",
    "# from commonUtil.transformer.evaluate import evaluate,plot_encoder_decoder_attention\n",
    "def evaluate(inp_sentence,x_tokenizer,y_tokenizer,max_length,transformer):\n",
    "    input_id_sentence = [x_tokenizer.vocab_size] \\\n",
    "                        + x_tokenizer.encode(inp_sentence) + [x_tokenizer.vocab_size + 1]   # 文本转换为ID\n",
    "    # encoder_input.shape: (1, input_sentence_length)\n",
    "    encoder_input = tf.expand_dims(input_id_sentence, 0)\n",
    "\n",
    "    # decoder_input.shape: (1, 1)\n",
    "    decoder_input = tf.expand_dims([y_tokenizer.vocab_size], 0)\n",
    "\n",
    "    for i in range(max_length):\n",
    "        encoder_padding_mask, decoder_mask, encoder_decoder_padding_mask \\\n",
    "            = create_masks(encoder_input, decoder_input)\n",
    "        # predictions.shape: (batch_size, output_target_len, target_vocab_size)\n",
    "        predictions, attention_weights = transformer(\n",
    "            encoder_input,\n",
    "            decoder_input,\n",
    "            False,\n",
    "            encoder_padding_mask,\n",
    "            decoder_mask,\n",
    "            encoder_decoder_padding_mask)\n",
    "        # predictions.shape: (batch_size, target_vocab_size)\n",
    "        predictions = predictions[:, -1, :]\n",
    "\n",
    "        predicted_id = tf.cast(tf.argmax(predictions, axis=-1),\n",
    "                               tf.int32)\n",
    "\n",
    "        if tf.equal(predicted_id, y_tokenizer.vocab_size + 1):# 判断是否等于end id\n",
    "            return tf.squeeze(decoder_input, axis=0), attention_weights\n",
    "\n",
    "        decoder_input = tf.concat([decoder_input, [predicted_id]],\n",
    "                                  axis=-1)\n",
    "    return tf.squeeze(decoder_input, axis=0), attention_weights\n",
    "\n",
    "\n",
    "def plot_encoder_decoder_attention(attention, input_sentence,\n",
    "                                   result, layer_name,x_tokenizer,y_tokenizer):\n",
    "    fig = plt.figure(figsize=(16, 8))\n",
    "\n",
    "    input_id_sentence = x_tokenizer.encode(input_sentence)\n",
    "\n",
    "    # attention.shape before squeeze: (1, num_heads, tar_len, input_len)\n",
    "    # attention.shape after squeeze: (num_heads, tar_len, input_len)\n",
    "    attention = tf.squeeze(attention[layer_name], axis=0)\n",
    "#     plt.rcParams['font.family']='AR PL UKai CN'\n",
    "    plt.rcParams[\"font.family\"]=\"STSong\" \n",
    "    for head in range(attention.shape[0]):\n",
    "        ax = fig.add_subplot(2, 4, head + 1)\n",
    "\n",
    "        ax.matshow(attention[head][:-1, :])\n",
    "\n",
    "        fontdict = {'fontsize': 10}\n",
    "\n",
    "        ax.set_xticks(range(len(input_id_sentence) + 2))\n",
    "        ax.set_yticks(range(len(result)))\n",
    "\n",
    "        ax.set_ylim(len(result) - 1.5, -0.5)\n",
    "\n",
    "        ax.set_xticklabels(\n",
    "            ['<start>'] + [x_tokenizer.decode([i]) for i in input_id_sentence] + ['<end>'],\n",
    "            fontdict=fontdict, rotation=90)\n",
    "        ax.set_yticklabels(\n",
    "            [y_tokenizer.decode([i]) for i in result if i < y_tokenizer.vocab_size],\n",
    "            fontdict=fontdict)\n",
    "        ax.set_xlabel('Head {}'.format(head + 1))\n",
    "    plt.tight_layout()\n",
    "    plt.show()"
   ]
  },
  {
   "cell_type": "code",
   "execution_count": 44,
   "metadata": {},
   "outputs": [],
   "source": [
    "def translate(input_sentence, layer_name=''):\n",
    "    result, attention_weights = evaluate(input_sentence,cn_tokenizer,en_tokenizer,max_length,transformer)\n",
    "\n",
    "    predicted_sentence = en_tokenizer.decode(\n",
    "        [i for i in result if i < en_tokenizer.vocab_size])\n",
    "\n",
    "    print(\"Input: {}\".format(input_sentence))\n",
    "    print(\"Predicted translation: {}\".format(predicted_sentence))\n",
    "\n",
    "    if layer_name:\n",
    "        plot_encoder_decoder_attention(attention_weights, input_sentence,\n",
    "                                       result, layer_name,cn_tokenizer,en_tokenizer)"
   ]
  },
  {
   "cell_type": "code",
   "execution_count": 45,
   "metadata": {},
   "outputs": [
    {
     "name": "stdout",
     "output_type": "stream",
     "text": [
      "Input: 我是谁？\n",
      "Predicted translation: Who Is I to be?\n"
     ]
    }
   ],
   "source": [
    "translate('我是谁？')"
   ]
  },
  {
   "cell_type": "code",
   "execution_count": 46,
   "metadata": {},
   "outputs": [
    {
     "name": "stdout",
     "output_type": "stream",
     "text": [
      "Input: 1929年还是1989年?\n",
      "Predicted translation: 1929 or 1989?\n"
     ]
    }
   ],
   "source": [
    "translate('1929年还是1989年?')"
   ]
  },
  {
   "cell_type": "code",
   "execution_count": 47,
   "metadata": {},
   "outputs": [
    {
     "name": "stdout",
     "output_type": "stream",
     "text": [
      "Input: 然而，作为地域战略学家，无论是从政治意义还是从经济意义上，让我自然想到的年份是1989年。\n",
      "Predicted translation: But, as a regional strategist, whether political significance or economic sense, I would have thought to be in 1989.\n"
     ]
    }
   ],
   "source": [
    "translate('然而，作为地域战略学家，无论是从政治意义还是从经济意义上，让我自然想到的年份是1989年。')"
   ]
  },
  {
   "cell_type": "code",
   "execution_count": 48,
   "metadata": {},
   "outputs": [
    {
     "name": "stdout",
     "output_type": "stream",
     "text": [
      "Input: 今天的天气很好！\n",
      "Predicted translation: Today’s weather is well!\n"
     ]
    }
   ],
   "source": [
    "translate('今天的天气很好！')"
   ]
  },
  {
   "cell_type": "code",
   "execution_count": 49,
   "metadata": {},
   "outputs": [
    {
     "name": "stdout",
     "output_type": "stream",
     "text": [
      "Input: 这是我的生活。\n",
      "Predicted translation: That is my life.\n"
     ]
    }
   ],
   "source": [
    "translate(u'这是我的生活。')"
   ]
  },
  {
   "cell_type": "code",
   "execution_count": 51,
   "metadata": {},
   "outputs": [
    {
     "name": "stdout",
     "output_type": "stream",
     "text": [
      "Input: 这样表现不是很好\n",
      "Predicted translation: That is Not Well\n"
     ]
    },
    {
     "data": {
      "image/png": "[encoded data removed]",
      "text/plain": [
       "<Figure size 1152x576 with 8 Axes>"
      ]
     },
     "metadata": {
      "needs_background": "light"
     },
     "output_type": "display_data"
    }
   ],
   "source": [
    "translate(u'这样表现不是很好',\n",
    "          layer_name = 'decoder_layer4_att2')"
   ]
  },
  {
   "cell_type": "code",
   "execution_count": 50,
   "metadata": {},
   "outputs": [
    {
     "name": "stdout",
     "output_type": "stream",
     "text": [
      "Input: 这是我的生活。\n",
      "Predicted translation: That is my life.\n"
     ]
    },
    {
     "data": {
      "image/png": "[encoded data removed]",
      "text/plain": [
       "<Figure size 1152x576 with 8 Axes>"
      ]
     },
     "metadata": {
      "needs_background": "light"
     },
     "output_type": "display_data"
    }
   ],
   "source": [
    "translate(u'这是我的生活。',layer_name = 'decoder_layer4_att2')"
   ]
  },
  {
   "cell_type": "code",
   "execution_count": null,
   "metadata": {},
   "outputs": [],
   "source": []
  }
 ],
 "metadata": {
  "kernelspec": {
   "display_name": "Python 3",
   "language": "python",
   "name": "python3"
  },
  "language_info": {
   "codemirror_mode": {
    "name": "ipython",
    "version": 3
   },
   "file_extension": ".py",
   "mimetype": "text/x-python",
   "name": "python",
   "nbconvert_exporter": "python",
   "pygments_lexer": "ipython3",
   "version": "3.6.2"
  }
 },
 "nbformat": 4,
 "nbformat_minor": 2
}
